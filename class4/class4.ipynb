{
  "cells": [
    {
      "cell_type": "markdown",
      "metadata": {
        "colab_type": "text",
        "id": "view-in-github"
      },
      "source": [
        "<a href=\"https://colab.research.google.com/github/zohaibkhanzohaibi/OEC_Japan_IT_Class/blob/master/class4.ipynb\" target=\"_parent\"><img src=\"https://colab.research.google.com/assets/colab-badge.svg\" alt=\"Open In Colab\"/></a>"
      ]
    },
    {
      "cell_type": "code",
      "execution_count": 3,
      "metadata": {
        "colab": {
          "base_uri": "https://localhost:8080/"
        },
        "id": "iM2Dddhh6t7N",
        "outputId": "b31fde37-50f7-455a-9b6a-0a45a2db6408"
      },
      "outputs": [
        {
          "name": "stdout",
          "output_type": "stream",
          "text": [
            "18\n"
          ]
        }
      ],
      "source": [
        "def multiplier(factor):\n",
        "  def multiply(num):\n",
        "    return num * factor\n",
        "  return multiply\n",
        "double = multiplier(2)\n",
        "print(double(9))"
      ]
    },
    {
      "cell_type": "code",
      "execution_count": 1,
      "metadata": {
        "colab": {
          "base_uri": "https://localhost:8080/"
        },
        "id": "28dn47bO4kEg",
        "outputId": "59d4d14d-947a-4494-b6d2-300a9b2273d6"
      },
      "outputs": [
        {
          "data": {
            "text/plain": [
              "120"
            ]
          },
          "execution_count": 1,
          "metadata": {},
          "output_type": "execute_result"
        }
      ],
      "source": [
        "def factorial(n):\n",
        "  \"\"\"Return the factorial of n, an exact integer >= 0.\"\"\"\n",
        "  if n == 0:\n",
        "    return 1\n",
        "  if n == 1:\n",
        "    return 1\n",
        "  return n * factorial(n-1)\n",
        "factorial(5)"
      ]
    },
    {
      "cell_type": "code",
      "execution_count": 6,
      "metadata": {
        "colab": {
          "base_uri": "https://localhost:8080/"
        },
        "id": "790Y6dF66pWz",
        "outputId": "17076500-b153-4c0d-c083-3582ae7ba014"
      },
      "outputs": [
        {
          "name": "stdout",
          "output_type": "stream",
          "text": [
            "Help on function factorial in module __main__:\n",
            "\n",
            "factorial(n)\n",
            "    Return the factorial of n, an exact integer >= 0.\n",
            "\n"
          ]
        }
      ],
      "source": [
        "help(factorial)"
      ]
    },
    {
      "cell_type": "code",
      "execution_count": 8,
      "metadata": {
        "colab": {
          "base_uri": "https://localhost:8080/"
        },
        "id": "_EpxdOwr67k7",
        "outputId": "8ad41162-0664-44e5-95c3-a4a1608f0b16"
      },
      "outputs": [
        {
          "name": "stdout",
          "output_type": "stream",
          "text": [
            "10\n"
          ]
        }
      ],
      "source": [
        "z = 5\n",
        "def modify_global():\n",
        "  global z\n",
        "  z = 10\n",
        "modify_global()\n",
        "print(z)"
      ]
    },
    {
      "cell_type": "code",
      "execution_count": 9,
      "metadata": {
        "colab": {
          "base_uri": "https://localhost:8080/"
        },
        "id": "YNyD6cHM8QJq",
        "outputId": "38cc6cd7-f49c-4fcc-b4bf-6ed8b5a5adff"
      },
      "outputs": [
        {
          "name": "stdout",
          "output_type": "stream",
          "text": [
            "inner: nonlocal\n",
            "outer: nonlocal\n"
          ]
        }
      ],
      "source": [
        "def outer():\n",
        "  x = \"local\"\n",
        "  def inner():\n",
        "    nonlocal x\n",
        "    x = \"nonlocal\"\n",
        "  inner()\n",
        "  print(\"outer:\", x)\n",
        "outer()"
      ]
    },
    {
      "cell_type": "code",
      "execution_count": 10,
      "metadata": {
        "id": "b7HJwgPF8eS7"
      },
      "outputs": [],
      "source": [
        "import numpy as np"
      ]
    },
    {
      "cell_type": "code",
      "execution_count": 11,
      "metadata": {
        "colab": {
          "base_uri": "https://localhost:8080/"
        },
        "id": "Dt4RS0OY884J",
        "outputId": "342f5b6b-bbc1-47ee-e327-a5556547e42b"
      },
      "outputs": [
        {
          "name": "stdout",
          "output_type": "stream",
          "text": [
            "<class 'numpy.ndarray'>\n",
            "<class 'list'>\n"
          ]
        }
      ],
      "source": [
        "#numpy arrays are faster and memory efficient than python lists\n",
        "\n",
        "py_list = [1, 2, 3, 4]\n",
        "np_arr = np.array(py_list)\n",
        "print(type(np_arr))\n",
        "print(type(py_list))"
      ]
    },
    {
      "cell_type": "code",
      "execution_count": 13,
      "metadata": {
        "colab": {
          "base_uri": "https://localhost:8080/"
        },
        "id": "_6XuILdd9MTS",
        "outputId": "13cc889d-a432-4c56-e34b-16ac198cf028"
      },
      "outputs": [
        {
          "data": {
            "text/plain": [
              "array([[1, 2, 3],\n",
              "       [4, 5, 6]])"
            ]
          },
          "execution_count": 13,
          "metadata": {},
          "output_type": "execute_result"
        }
      ],
      "source": [
        "arr2d = np.array([[1, 2, 3], [4, 5, 6]])\n",
        "arr2d"
      ]
    },
    {
      "cell_type": "code",
      "execution_count": 15,
      "metadata": {
        "colab": {
          "base_uri": "https://localhost:8080/"
        },
        "id": "DfwgjJjP9bn5",
        "outputId": "0bac72e7-396f-4d27-e3b7-f7bf7738f664"
      },
      "outputs": [
        {
          "data": {
            "text/plain": [
              "2"
            ]
          },
          "execution_count": 15,
          "metadata": {},
          "output_type": "execute_result"
        }
      ],
      "source": [
        "arr2d.ndim"
      ]
    },
    {
      "cell_type": "code",
      "execution_count": 18,
      "metadata": {
        "colab": {
          "base_uri": "https://localhost:8080/"
        },
        "id": "gPSRQm6X9tTJ",
        "outputId": "12d88046-78f3-48aa-da86-95a0885dc37a"
      },
      "outputs": [
        {
          "data": {
            "text/plain": [
              "array([[0., 0., 0.],\n",
              "       [0., 0., 0.]])"
            ]
          },
          "execution_count": 18,
          "metadata": {},
          "output_type": "execute_result"
        }
      ],
      "source": [
        "zeros2d = np.zeros((2, 3))\n",
        "zeros2d"
      ]
    },
    {
      "cell_type": "code",
      "execution_count": 20,
      "metadata": {
        "colab": {
          "base_uri": "https://localhost:8080/"
        },
        "id": "bQGs7sRI925J",
        "outputId": "0921709c-048d-443f-e9e3-28cae814939c"
      },
      "outputs": [
        {
          "data": {
            "text/plain": [
              "array([[1., 1., 1.],\n",
              "       [1., 1., 1.],\n",
              "       [1., 1., 1.]])"
            ]
          },
          "execution_count": 20,
          "metadata": {},
          "output_type": "execute_result"
        }
      ],
      "source": [
        "ones3d = np.ones((3, 3))\n",
        "ones3d"
      ]
    },
    {
      "cell_type": "code",
      "execution_count": 22,
      "metadata": {
        "colab": {
          "base_uri": "https://localhost:8080/"
        },
        "id": "j3AX4P3K-AE5",
        "outputId": "6f4abe82-c20f-4538-ac42-3e8f413411a5"
      },
      "outputs": [
        {
          "data": {
            "text/plain": [
              "array([[54, 54, 54],\n",
              "       [54, 54, 54],\n",
              "       [54, 54, 54]])"
            ]
          },
          "execution_count": 22,
          "metadata": {},
          "output_type": "execute_result"
        }
      ],
      "source": [
        "any_no = np.full((3,3), 54)\n",
        "any_no"
      ]
    },
    {
      "cell_type": "code",
      "execution_count": 24,
      "metadata": {
        "colab": {
          "base_uri": "https://localhost:8080/"
        },
        "id": "J95fUQOF-IAB",
        "outputId": "245806f2-377c-4188-a0c3-ed4cb2e01933"
      },
      "outputs": [
        {
          "data": {
            "text/plain": [
              "array([ 1. ,  2.8,  4.6,  6.4,  8.2, 10. ])"
            ]
          },
          "execution_count": 24,
          "metadata": {},
          "output_type": "execute_result"
        }
      ],
      "source": [
        "#evenly spaced value between a range (start, end, number of spaces)\n",
        "linspace_arr = np.linspace(1, 10, 6)\n",
        "linspace_arr"
      ]
    },
    {
      "cell_type": "code",
      "execution_count": 32,
      "metadata": {
        "colab": {
          "base_uri": "https://localhost:8080/"
        },
        "id": "zK9Vynqb-dPp",
        "outputId": "f28b5134-e5e3-4cac-de89-22109d733e7f"
      },
      "outputs": [
        {
          "data": {
            "text/plain": [
              "array([1, 3, 5, 7, 9])"
            ]
          },
          "execution_count": 32,
          "metadata": {},
          "output_type": "execute_result"
        }
      ],
      "source": [
        "#(start, end , stepvalue(default = 1))\n",
        "range_array = np.arange(1, 10, 2)\n",
        "range_array"
      ]
    },
    {
      "cell_type": "code",
      "execution_count": 35,
      "metadata": {
        "colab": {
          "base_uri": "https://localhost:8080/"
        },
        "id": "tiz9Jrq1-2oB",
        "outputId": "a6f11518-995b-46ac-ac65-71166dc5410e"
      },
      "outputs": [
        {
          "data": {
            "text/plain": [
              "array([[3.43223051, 9.97290306, 5.04997716],\n",
              "       [8.02854452, 1.15178032, 5.3052381 ],\n",
              "       [5.15660065, 9.34954095, 5.33631005]])"
            ]
          },
          "execution_count": 35,
          "metadata": {},
          "output_type": "execute_result"
        }
      ],
      "source": [
        "random_array = np.random.rand(3, 3) * 10\n",
        "random_array"
      ]
    },
    {
      "cell_type": "code",
      "execution_count": 40,
      "metadata": {
        "colab": {
          "base_uri": "https://localhost:8080/"
        },
        "id": "JwHyHsAX_J8B",
        "outputId": "e710e7a9-43dc-40e2-b34a-6187ada66840"
      },
      "outputs": [
        {
          "data": {
            "text/plain": [
              "array([[12,  1, 91],\n",
              "       [40, 83, 88],\n",
              "       [78, 49, 70]])"
            ]
          },
          "execution_count": 40,
          "metadata": {},
          "output_type": "execute_result"
        }
      ],
      "source": [
        "#(start, end, (row, col))\n",
        "random_int_arr = np.random.randint(1, 100, (3, 3))\n",
        "random_int_arr"
      ]
    },
    {
      "cell_type": "code",
      "execution_count": 43,
      "metadata": {
        "colab": {
          "base_uri": "https://localhost:8080/"
        },
        "id": "fTBey4Zl_Z-J",
        "outputId": "9795fe4e-609c-40ce-8c30-454e42a022d6"
      },
      "outputs": [
        {
          "name": "stdout",
          "output_type": "stream",
          "text": [
            "(3, 3)\n",
            "2\n",
            "9\n"
          ]
        }
      ],
      "source": [
        "print(random_int_arr.shape)\n",
        "print(random_int_arr.ndim)\n",
        "print(random_int_arr.size)"
      ]
    },
    {
      "cell_type": "code",
      "execution_count": 47,
      "metadata": {
        "colab": {
          "base_uri": "https://localhost:8080/"
        },
        "id": "wDXgIIwT_zV6",
        "outputId": "0340b645-1a84-44e4-b26a-b7f6547e7660"
      },
      "outputs": [
        {
          "name": "stdout",
          "output_type": "stream",
          "text": [
            "[1 2 3 4]\n",
            "[[1 2]\n",
            " [3 4]]\n"
          ]
        }
      ],
      "source": [
        "np_arr = np.array([1, 2, 3, 4])\n",
        "print(np_arr)\n",
        "np_arr = np_arr.reshape((2, 2))\n",
        "print(np_arr)"
      ]
    },
    {
      "cell_type": "code",
      "execution_count": 48,
      "metadata": {
        "colab": {
          "base_uri": "https://localhost:8080/"
        },
        "id": "M40HnyAbAGwB",
        "outputId": "1453d915-00c9-4c83-8bf6-68ea78db0466"
      },
      "outputs": [
        {
          "name": "stdout",
          "output_type": "stream",
          "text": [
            "[0.0000000e+00 1.0000000e+00 1.2246468e-16]\n",
            "[ 1.          4.81047738 23.14069263]\n",
            "[0.         1.25331414 1.77245385]\n"
          ]
        }
      ],
      "source": [
        "arr = np.array([0, np.pi/2, np.pi])\n",
        "print(np.sin(arr))\n",
        "print(np.exp(arr))\n",
        "print(np.sqrt(arr))"
      ]
    },
    {
      "cell_type": "code",
      "execution_count": 49,
      "metadata": {
        "colab": {
          "base_uri": "https://localhost:8080/"
        },
        "id": "HqYBBGoGA3UR",
        "outputId": "957c59b9-f118-482e-c85d-1eaccdd96349"
      },
      "outputs": [
        {
          "name": "stdout",
          "output_type": "stream",
          "text": [
            "Help on ufunc:\n",
            "\n",
            "exp = <ufunc 'exp'>\n",
            "    exp(x, /, out=None, *, where=True, casting='same_kind', order='K', dtype=None, subok=True[, signature, extobj])\n",
            "    \n",
            "    Calculate the exponential of all elements in the input array.\n",
            "    \n",
            "    Parameters\n",
            "    ----------\n",
            "    x : array_like\n",
            "        Input values.\n",
            "    out : ndarray, None, or tuple of ndarray and None, optional\n",
            "        A location into which the result is stored. If provided, it must have\n",
            "        a shape that the inputs broadcast to. If not provided or None,\n",
            "        a freshly-allocated array is returned. A tuple (possible only as a\n",
            "        keyword argument) must have length equal to the number of outputs.\n",
            "    where : array_like, optional\n",
            "        This condition is broadcast over the input. At locations where the\n",
            "        condition is True, the `out` array will be set to the ufunc result.\n",
            "        Elsewhere, the `out` array will retain its original value.\n",
            "        Note that if an uninitialized `out` array is created via the default\n",
            "        ``out=None``, locations within it where the condition is False will\n",
            "        remain uninitialized.\n",
            "    **kwargs\n",
            "        For other keyword-only arguments, see the\n",
            "        :ref:`ufunc docs <ufuncs.kwargs>`.\n",
            "    \n",
            "    Returns\n",
            "    -------\n",
            "    out : ndarray or scalar\n",
            "        Output array, element-wise exponential of `x`.\n",
            "        This is a scalar if `x` is a scalar.\n",
            "    \n",
            "    See Also\n",
            "    --------\n",
            "    expm1 : Calculate ``exp(x) - 1`` for all elements in the array.\n",
            "    exp2  : Calculate ``2**x`` for all elements in the array.\n",
            "    \n",
            "    Notes\n",
            "    -----\n",
            "    The irrational number ``e`` is also known as Euler's number.  It is\n",
            "    approximately 2.718281, and is the base of the natural logarithm,\n",
            "    ``ln`` (this means that, if :math:`x = \\ln y = \\log_e y`,\n",
            "    then :math:`e^x = y`. For real input, ``exp(x)`` is always positive.\n",
            "    \n",
            "    For complex arguments, ``x = a + ib``, we can write\n",
            "    :math:`e^x = e^a e^{ib}`.  The first term, :math:`e^a`, is already\n",
            "    known (it is the real argument, described above).  The second term,\n",
            "    :math:`e^{ib}`, is :math:`\\cos b + i \\sin b`, a function with\n",
            "    magnitude 1 and a periodic phase.\n",
            "    \n",
            "    References\n",
            "    ----------\n",
            "    .. [1] Wikipedia, \"Exponential function\",\n",
            "           https://en.wikipedia.org/wiki/Exponential_function\n",
            "    .. [2] M. Abramovitz and I. A. Stegun, \"Handbook of Mathematical Functions\n",
            "           with Formulas, Graphs, and Mathematical Tables,\" Dover, 1964, p. 69,\n",
            "           https://personal.math.ubc.ca/~cbm/aands/page_69.htm\n",
            "    \n",
            "    Examples\n",
            "    --------\n",
            "    Plot the magnitude and phase of ``exp(x)`` in the complex plane:\n",
            "    \n",
            "    >>> import matplotlib.pyplot as plt\n",
            "    \n",
            "    >>> x = np.linspace(-2*np.pi, 2*np.pi, 100)\n",
            "    >>> xx = x + 1j * x[:, np.newaxis] # a + ib over complex plane\n",
            "    >>> out = np.exp(xx)\n",
            "    \n",
            "    >>> plt.subplot(121)\n",
            "    >>> plt.imshow(np.abs(out),\n",
            "    ...            extent=[-2*np.pi, 2*np.pi, -2*np.pi, 2*np.pi], cmap='gray')\n",
            "    >>> plt.title('Magnitude of exp(x)')\n",
            "    \n",
            "    >>> plt.subplot(122)\n",
            "    >>> plt.imshow(np.angle(out),\n",
            "    ...            extent=[-2*np.pi, 2*np.pi, -2*np.pi, 2*np.pi], cmap='hsv')\n",
            "    >>> plt.title('Phase (angle) of exp(x)')\n",
            "    >>> plt.show()\n",
            "\n"
          ]
        }
      ],
      "source": [
        "help(np.exp)"
      ]
    },
    {
      "cell_type": "code",
      "execution_count": 50,
      "metadata": {
        "colab": {
          "base_uri": "https://localhost:8080/"
        },
        "id": "luO66T-pBKvo",
        "outputId": "0b821ab3-8e39-420a-df30-c381c2f47d04"
      },
      "outputs": [
        {
          "data": {
            "text/plain": [
              "4.71238898038469"
            ]
          },
          "execution_count": 50,
          "metadata": {},
          "output_type": "execute_result"
        }
      ],
      "source": [
        "np.sum(arr)"
      ]
    },
    {
      "cell_type": "code",
      "execution_count": 52,
      "metadata": {
        "colab": {
          "base_uri": "https://localhost:8080/"
        },
        "id": "STaZOlNUBb64",
        "outputId": "c1bc8849-c217-4ee7-d99f-a48f69a3e75a"
      },
      "outputs": [
        {
          "name": "stdout",
          "output_type": "stream",
          "text": [
            "[[66 82 85 17]\n",
            " [71 87 91  7]\n",
            " [83 77 93 49]\n",
            " [66 82 41 62]]\n"
          ]
        }
      ],
      "source": [
        "arr = np.random.randint(1, 100, (4, 4))\n",
        "print(arr)"
      ]
    },
    {
      "cell_type": "code",
      "execution_count": 68,
      "metadata": {
        "colab": {
          "base_uri": "https://localhost:8080/"
        },
        "id": "yoNU5iAXB2iA",
        "outputId": "f116e06b-979a-4159-fb27-0be472d8f6f8"
      },
      "outputs": [
        {
          "name": "stdout",
          "output_type": "stream",
          "text": [
            "[[66 82]\n",
            " [71 87]]\n",
            "[[66 85]\n",
            " [83 93]]\n",
            "[[17 85 82 66]\n",
            " [ 7 91 87 71]\n",
            " [49 93 77 83]\n",
            " [62 41 82 66]]\n",
            "[[66 82 41 62]\n",
            " [71 87 91  7]]\n",
            "[[62 82]\n",
            " [ 7 87]]\n"
          ]
        }
      ],
      "source": [
        "print(arr[0:2, :2])\n",
        "print(arr[::2, ::2]) #every second element\n",
        "print(arr[:, ::-1]) #reverse\n",
        "print(arr[::-2]) #in reverse every second row\n",
        "print(arr[::-2, ::-2])"
      ]
    },
    {
      "cell_type": "code",
      "execution_count": 69,
      "metadata": {
        "colab": {
          "base_uri": "https://localhost:8080/"
        },
        "id": "UOs6zHdVCFfg",
        "outputId": "d2d6c464-6eab-4764-9e6d-f6e53635b4bb"
      },
      "outputs": [
        {
          "name": "stdout",
          "output_type": "stream",
          "text": [
            "(array([0, 0, 1, 1, 1, 2, 2, 2, 3]), array([1, 2, 0, 1, 2, 0, 1, 2, 1]))\n"
          ]
        }
      ],
      "source": [
        "result = np.where(arr>70)\n",
        "print(result)"
      ]
    },
    {
      "cell_type": "code",
      "execution_count": 70,
      "metadata": {
        "colab": {
          "base_uri": "https://localhost:8080/"
        },
        "id": "jcALnzLPFEGw",
        "outputId": "d7b1e366-ca41-4ad1-d585-475dd14d8c82"
      },
      "outputs": [
        {
          "name": "stdout",
          "output_type": "stream",
          "text": [
            "[82 85 71 87 91 83 77 93 82]\n"
          ]
        }
      ],
      "source": [
        "print(arr[result])"
      ]
    },
    {
      "cell_type": "code",
      "execution_count": 71,
      "metadata": {
        "colab": {
          "base_uri": "https://localhost:8080/"
        },
        "id": "ALgdAlosFXcI",
        "outputId": "e85914ac-558a-4d10-c3d6-40077ed5f263"
      },
      "outputs": [
        {
          "data": {
            "text/plain": [
              "array([66, 17,  7, 49, 66, 41, 62])"
            ]
          },
          "execution_count": 71,
          "metadata": {},
          "output_type": "execute_result"
        }
      ],
      "source": [
        "arr[np.where(arr <70)]"
      ]
    },
    {
      "cell_type": "code",
      "execution_count": 77,
      "metadata": {
        "colab": {
          "base_uri": "https://localhost:8080/"
        },
        "id": "cN3fDRBiFkU3",
        "outputId": "89e9c09b-df3c-433e-c1e3-a36e4c8703dd"
      },
      "outputs": [
        {
          "data": {
            "text/plain": [
              "array([66, 82])"
            ]
          },
          "execution_count": 77,
          "metadata": {},
          "output_type": "execute_result"
        }
      ],
      "source": [
        "take_arr = np.take(arr, [0, 1])\n",
        "take_arr"
      ]
    },
    {
      "cell_type": "code",
      "execution_count": null,
      "metadata": {
        "id": "FzUhiQXbFySY"
      },
      "outputs": [],
      "source": []
    }
  ],
  "metadata": {
    "colab": {
      "authorship_tag": "ABX9TyPkBVlvCWej5HpjTb7+VPI6",
      "include_colab_link": true,
      "provenance": []
    },
    "kernelspec": {
      "display_name": "base",
      "language": "python",
      "name": "python3"
    },
    "language_info": {
      "codemirror_mode": {
        "name": "ipython",
        "version": 3
      },
      "file_extension": ".py",
      "mimetype": "text/x-python",
      "name": "python",
      "nbconvert_exporter": "python",
      "pygments_lexer": "ipython3",
      "version": "3.11.5"
    }
  },
  "nbformat": 4,
  "nbformat_minor": 0
}
