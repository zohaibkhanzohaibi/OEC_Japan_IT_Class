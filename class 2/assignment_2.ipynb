{
  "nbformat": 4,
  "nbformat_minor": 0,
  "metadata": {
    "colab": {
      "provenance": [],
      "authorship_tag": "ABX9TyNkTxRnAwpxdE5y1GA9C02E",
      "include_colab_link": true
    },
    "kernelspec": {
      "name": "python3",
      "display_name": "Python 3"
    },
    "language_info": {
      "name": "python"
    }
  },
  "cells": [
    {
      "cell_type": "markdown",
      "metadata": {
        "id": "view-in-github",
        "colab_type": "text"
      },
      "source": [
        "<a href=\"https://colab.research.google.com/github/zohaibkhanzohaibi/OEC_Japan_IT_Class/blob/main/assignment_2.ipynb\" target=\"_parent\"><img src=\"https://colab.research.google.com/assets/colab-badge.svg\" alt=\"Open In Colab\"/></a>"
      ]
    },
    {
      "cell_type": "code",
      "execution_count": 1,
      "metadata": {
        "id": "-Sijo-hs3cSu",
        "colab": {
          "base_uri": "https://localhost:8080/"
        },
        "outputId": "04d8c1c4-5c81-488f-926d-df576efc1f49"
      },
      "outputs": [
        {
          "name": "stdout",
          "output_type": "stream",
          "text": [
            "Muhammad Zohaib\n",
            "Khan\n"
          ]
        }
      ],
      "source": [
        "first_name = input(\"\")\n",
        "last_name = input(\"\")"
      ]
    },
    {
      "cell_type": "code",
      "source": [
        "first_name = first_name.upper()\n",
        "last_name = last_name.lower()\n"
      ],
      "metadata": {
        "id": "GHwX6tCP33w8"
      },
      "execution_count": 5,
      "outputs": []
    },
    {
      "cell_type": "code",
      "source": [
        "total_letters = len(first_name) + len(last_name)\n",
        "\n",
        "print(f\"First name (upper): {first_name}\")\n",
        "print(f\"Last name (lower): {last_name}\")\n",
        "print(\"Sum of letters in your first and last name:\", total_letters)"
      ],
      "metadata": {
        "id": "BJ_J60Ji53jd",
        "colab": {
          "base_uri": "https://localhost:8080/"
        },
        "outputId": "03dc59e2-87bd-4c12-a416-001241089cc4"
      },
      "execution_count": 7,
      "outputs": [
        {
          "output_type": "stream",
          "name": "stdout",
          "text": [
            "First name (upper): MUHAMMAD ZOHAIB\n",
            "Last name (lower): khan\n",
            "Sum of letters in your first and last name: 19\n"
          ]
        }
      ]
    },
    {
      "cell_type": "code",
      "source": [
        "print(\"Calculate the area of following shapes:\")\n",
        "print(\"1. Circle\")\n",
        "print(\"2. Rectangle\")\n",
        "print(\"3. Square\")\n",
        "print(\"4. Triangle\")\n",
        "shape = input(\"Find the area of : \")\n",
        "\n",
        "radius = float(input(\"Enter the radius of the circle: \"))\n",
        "area =  3.142 *  radius**2\n",
        "print(\"area of circle is\", area)\n",
        "\n",
        "print(\"Find area of Rectangle\")\n",
        "length = float(input(\"Enter length: \"))\n",
        "width = float(input(\"Enter width: \"))\n",
        "area = length * width\n",
        "print(\"Area of rectangle is\", {area})\n",
        "\n",
        "print(\"Find area of square\")\n",
        "side = float(input(\"Enter side: \"))\n",
        "area = side * side\n",
        "print(\"Area of square is\", area)\n",
        "\n",
        "print(\"Find area of triangle\")\n",
        "breadth = float(input(\"Enter breadth: \"))\n",
        "height = float(input(\"Enter height: \"))\n",
        "area = 0.5 * breadth * height\n",
        "print(\"Area of triangle is\", area)"
      ],
      "metadata": {
        "colab": {
          "base_uri": "https://localhost:8080/"
        },
        "id": "KbbGZRjBKAx6",
        "outputId": "3e165dad-e725-483f-8c12-fbd860d601e6"
      },
      "execution_count": 8,
      "outputs": [
        {
          "output_type": "stream",
          "name": "stdout",
          "text": [
            "Calculate the area of following shapes:\n",
            "1. Circle\n",
            "2. Rectangle\n",
            "3. Square\n",
            "4. Triangle\n",
            "Find the area of : Circle\n",
            "Enter the radius of the circle: 5\n",
            "area of circle is 78.55\n",
            "Find area of Rectangle\n",
            "Enter length: 10\n",
            "Enter width: 5\n",
            "Area of rectangle is {50.0}\n",
            "Find area of square\n",
            "Enter side: 6\n",
            "Area of square is 36.0\n",
            "Find area of triangle\n",
            "Enter breadth: 6\n",
            "Enter height: 8\n",
            "Area of triangle is 24.0\n"
          ]
        }
      ]
    },
    {
      "cell_type": "code",
      "source": [
        "import random\n",
        "\n",
        "colors = [\"pink\", \"black\", \"white\", \"yellow\", \"orange\", \"purple\"]\n",
        "\n",
        "index = random.randint(0, len(colors) - 1)\n",
        "\n",
        "selected_color = colors[index]\n",
        "\n",
        "password = selected_color[::-1]\n",
        "print(\"Selected Color:\", selected_color)\n",
        "print(\"Generated Password:\", password)"
      ],
      "metadata": {
        "colab": {
          "base_uri": "https://localhost:8080/"
        },
        "id": "c-hVSDYXKvcz",
        "outputId": "ec71d428-4e2c-4d3a-dab4-66958c2680ed"
      },
      "execution_count": 9,
      "outputs": [
        {
          "output_type": "stream",
          "name": "stdout",
          "text": [
            "Selected Color: yellow\n",
            "Generated Password: wolley\n"
          ]
        }
      ]
    },
    {
      "cell_type": "code",
      "source": [],
      "metadata": {
        "id": "7MN3mjlsLc3K"
      },
      "execution_count": null,
      "outputs": []
    }
  ]
}