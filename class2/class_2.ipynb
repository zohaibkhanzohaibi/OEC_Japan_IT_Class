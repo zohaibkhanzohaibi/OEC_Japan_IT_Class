{
  "nbformat": 4,
  "nbformat_minor": 0,
  "metadata": {
    "colab": {
      "provenance": [],
      "authorship_tag": "ABX9TyOEhmPNcGAJjYnQjWp0OQwQ",
      "include_colab_link": true
    },
    "kernelspec": {
      "name": "python3",
      "display_name": "Python 3"
    },
    "language_info": {
      "name": "python"
    }
  },
  "cells": [
    {
      "cell_type": "markdown",
      "metadata": {
        "id": "view-in-github",
        "colab_type": "text"
      },
      "source": [
        "<a href=\"https://colab.research.google.com/github/zohaibkhanzohaibi/OEC_Japan_IT_Class/blob/main/class_2.ipynb\" target=\"_parent\"><img src=\"https://colab.research.google.com/assets/colab-badge.svg\" alt=\"Open In Colab\"/></a>"
      ]
    },
    {
      "cell_type": "code",
      "execution_count": 1,
      "metadata": {
        "colab": {
          "base_uri": "https://localhost:8080/"
        },
        "id": "fAb9Nq3jN8-B",
        "outputId": "ae15313a-cbda-444a-bc4a-5e1ddaf7130d"
      },
      "outputs": [
        {
          "output_type": "stream",
          "name": "stdout",
          "text": [
            "This is indented correctly\n"
          ]
        }
      ],
      "source": [
        "if True:\n",
        "  print(\"This is indented correctly\")"
      ]
    },
    {
      "cell_type": "code",
      "source": [
        "if True:\n",
        "print(\"This is indented correctly\")"
      ],
      "metadata": {
        "colab": {
          "base_uri": "https://localhost:8080/",
          "height": 110
        },
        "id": "xqnsjlVAODHS",
        "outputId": "3e844ea0-3caa-4dda-d329-a801fdf88379"
      },
      "execution_count": 2,
      "outputs": [
        {
          "output_type": "error",
          "ename": "IndentationError",
          "evalue": "expected an indented block after 'if' statement on line 1 (<ipython-input-2-4b082c6557a9>, line 2)",
          "traceback": [
            "\u001b[0;36m  File \u001b[0;32m\"<ipython-input-2-4b082c6557a9>\"\u001b[0;36m, line \u001b[0;32m2\u001b[0m\n\u001b[0;31m    print(\"This is indented correctly\")\u001b[0m\n\u001b[0m    ^\u001b[0m\n\u001b[0;31mIndentationError\u001b[0m\u001b[0;31m:\u001b[0m expected an indented block after 'if' statement on line 1\n"
          ]
        }
      ]
    },
    {
      "cell_type": "code",
      "source": [
        "name=\"Zohaib\"\n",
        "age=21\n",
        "pi=3.141\n",
        "print(\"name: \",name)\n",
        "print(\"age: \",age)\n",
        "print(\"pi: \",pi)"
      ],
      "metadata": {
        "colab": {
          "base_uri": "https://localhost:8080/"
        },
        "id": "P2T6X9NLOGw6",
        "outputId": "25c25804-77fe-41ad-9834-44d8e4313aa3"
      },
      "execution_count": 3,
      "outputs": [
        {
          "output_type": "stream",
          "name": "stdout",
          "text": [
            "name:  Zohaib\n",
            "age:  21\n",
            "pi:  3.141\n"
          ]
        }
      ]
    },
    {
      "cell_type": "code",
      "source": [
        "name=input(\"enter name : \")\n",
        "age=int(input(\"enter age : \"))\n",
        "print(name,age)"
      ],
      "metadata": {
        "colab": {
          "base_uri": "https://localhost:8080/"
        },
        "id": "XrCVv2lsOMkp",
        "outputId": "6e0a353e-36bd-4a27-80f7-f3c1e7302a29"
      },
      "execution_count": 4,
      "outputs": [
        {
          "output_type": "stream",
          "name": "stdout",
          "text": [
            "enter name : Zohaib\n",
            "enter age : 21\n",
            "Zohaib 21\n"
          ]
        }
      ]
    },
    {
      "cell_type": "code",
      "source": [
        "z=2+3j\n",
        "print(z.real,z.imag)"
      ],
      "metadata": {
        "colab": {
          "base_uri": "https://localhost:8080/"
        },
        "id": "CrtKSBixOObx",
        "outputId": "d4fb5e28-b67b-4932-e47e-5156abd2a5e5"
      },
      "execution_count": 5,
      "outputs": [
        {
          "output_type": "stream",
          "name": "stdout",
          "text": [
            "2.0 3.0\n"
          ]
        }
      ]
    },
    {
      "cell_type": "code",
      "source": [
        "msg = \"Hello World!\"\n",
        "repeat = \"Python\" * 10\n",
        "print(repeat)\n",
        "replace = msg.replace(\"Hello\",\"Hi\")\n",
        "print(replace)\n",
        "print(msg[0])\n",
        "print(msg[0:5])\n",
        "print(msg[6:])"
      ],
      "metadata": {
        "colab": {
          "base_uri": "https://localhost:8080/"
        },
        "id": "TGf7DiJhOSD5",
        "outputId": "05a1c295-6062-4569-ed48-2b19841ac758"
      },
      "execution_count": 6,
      "outputs": [
        {
          "output_type": "stream",
          "name": "stdout",
          "text": [
            "PythonPythonPythonPythonPythonPythonPythonPythonPythonPython\n",
            "Hi World!\n",
            "H\n",
            "Hello\n",
            "World!\n"
          ]
        }
      ]
    },
    {
      "cell_type": "code",
      "source": [
        "temp = [1,2,3,4,5]\n",
        "print(temp)\n",
        "temp.append(6)\n",
        "print(temp)\n",
        "print(temp[0:3])"
      ],
      "metadata": {
        "colab": {
          "base_uri": "https://localhost:8080/"
        },
        "id": "YxH76LJIOUR5",
        "outputId": "9e9f8635-59a1-4ab2-dbcc-16bcf43f3622"
      },
      "execution_count": 7,
      "outputs": [
        {
          "output_type": "stream",
          "name": "stdout",
          "text": [
            "[1, 2, 3, 4, 5]\n",
            "[1, 2, 3, 4, 5, 6]\n",
            "[1, 2, 3]\n"
          ]
        }
      ]
    },
    {
      "cell_type": "code",
      "source": [
        "tup= (1,2,3,4,5)\n",
        "print(tup)"
      ],
      "metadata": {
        "colab": {
          "base_uri": "https://localhost:8080/"
        },
        "id": "1-ntq5KeOWnM",
        "outputId": "6ab7f183-055a-49cd-b8dd-bb74045d16de"
      },
      "execution_count": 8,
      "outputs": [
        {
          "output_type": "stream",
          "name": "stdout",
          "text": [
            "(1, 2, 3, 4, 5)\n"
          ]
        }
      ]
    },
    {
      "cell_type": "code",
      "source": [
        "num_set = {1,2,3,4,5}\n",
        "num_set.add(6)\n",
        "print(num_set)\n",
        "num_set.add(6)\n",
        "print(num_set)"
      ],
      "metadata": {
        "colab": {
          "base_uri": "https://localhost:8080/"
        },
        "id": "FyF5Esm1OZDw",
        "outputId": "2cb88ca6-2fa8-4bde-bb23-440f56977dbb"
      },
      "execution_count": 9,
      "outputs": [
        {
          "output_type": "stream",
          "name": "stdout",
          "text": [
            "{1, 2, 3, 4, 5, 6}\n",
            "{1, 2, 3, 4, 5, 6}\n"
          ]
        }
      ]
    },
    {
      "cell_type": "code",
      "source": [
        "dictionary = {\"name\": \"Zohaib\"}\n",
        "\n",
        "dictionary['name'] = \"mzkg\"\n",
        "print(dictionary)"
      ],
      "metadata": {
        "colab": {
          "base_uri": "https://localhost:8080/"
        },
        "id": "DaPrwdH2OayA",
        "outputId": "d6447117-cfb5-4f92-c9dc-852aea475a36"
      },
      "execution_count": 15,
      "outputs": [
        {
          "output_type": "stream",
          "name": "stdout",
          "text": [
            "{'name': 'mzkg'}\n"
          ]
        }
      ]
    },
    {
      "cell_type": "code",
      "source": [
        "num1 = 10\n",
        "num2= 10.01\n",
        "result= num1+num2\n",
        "print (result)\n",
        "print(type(result))"
      ],
      "metadata": {
        "colab": {
          "base_uri": "https://localhost:8080/"
        },
        "id": "qww38dl5OdkR",
        "outputId": "c8509a14-2888-4f17-c891-c9a0f52181d1"
      },
      "execution_count": 11,
      "outputs": [
        {
          "output_type": "stream",
          "name": "stdout",
          "text": [
            "20.009999999999998\n",
            "<class 'float'>\n"
          ]
        }
      ]
    },
    {
      "cell_type": "code",
      "source": [
        "age = \"21\"\n",
        "print(type(age))\n",
        "integer = 10\n",
        "age = int(age)\n",
        "result= age+integer\n",
        "print(result)"
      ],
      "metadata": {
        "colab": {
          "base_uri": "https://localhost:8080/"
        },
        "id": "z55sx9YQOfsZ",
        "outputId": "2a7b1abe-5d9c-40c4-caad-0e5fbaa82ea4"
      },
      "execution_count": 13,
      "outputs": [
        {
          "output_type": "stream",
          "name": "stdout",
          "text": [
            "<class 'str'>\n",
            "31\n"
          ]
        }
      ]
    },
    {
      "cell_type": "code",
      "source": [
        "print(\"Floor Div:\",10//3)\n",
        "print(\"Mod:\",5%2)\n",
        "print(\"Exponent:\",2**3)"
      ],
      "metadata": {
        "colab": {
          "base_uri": "https://localhost:8080/"
        },
        "id": "p21aWrq_OhZ4",
        "outputId": "000e2531-8364-48fe-99f9-4403d226c38a"
      },
      "execution_count": 16,
      "outputs": [
        {
          "output_type": "stream",
          "name": "stdout",
          "text": [
            "Floor Div: 3\n",
            "Mod: 1\n",
            "Exponent: 8\n"
          ]
        }
      ]
    },
    {
      "cell_type": "code",
      "source": [
        "p = True\n",
        "q= False\n",
        "\n",
        "print(\"AND\", p and q)\n",
        "print(\"OR\", p or q)\n",
        "print(\"NOT\", not p)"
      ],
      "metadata": {
        "colab": {
          "base_uri": "https://localhost:8080/"
        },
        "id": "CLqETISvOsIR",
        "outputId": "2fea52a3-4859-4045-f85e-8c687e209407"
      },
      "execution_count": 17,
      "outputs": [
        {
          "output_type": "stream",
          "name": "stdout",
          "text": [
            "AND False\n",
            "OR True\n",
            "NOT False\n"
          ]
        }
      ]
    },
    {
      "cell_type": "code",
      "source": [
        "a=10\n",
        "print(a)\n",
        "a+=5\n",
        "print(a)\n",
        "a-=5\n",
        "print(a)\n",
        "a*=5\n",
        "print(a)\n",
        "a/=5\n",
        "print(a)"
      ],
      "metadata": {
        "colab": {
          "base_uri": "https://localhost:8080/"
        },
        "id": "WJZoFZ5tOwTw",
        "outputId": "2db21e0a-2ca1-49d7-82f5-008789ab1956"
      },
      "execution_count": 18,
      "outputs": [
        {
          "output_type": "stream",
          "name": "stdout",
          "text": [
            "10\n",
            "15\n",
            "10\n",
            "50\n",
            "10.0\n"
          ]
        }
      ]
    },
    {
      "cell_type": "code",
      "source": [
        "sentence = \"a random sentence\"\n",
        "print(len(sentence))"
      ],
      "metadata": {
        "colab": {
          "base_uri": "https://localhost:8080/"
        },
        "id": "_AiJKMCbOyGJ",
        "outputId": "9d03665c-97ff-458f-8a28-524df170a411"
      },
      "execution_count": 19,
      "outputs": [
        {
          "output_type": "stream",
          "name": "stdout",
          "text": [
            "17\n"
          ]
        }
      ]
    },
    {
      "cell_type": "code",
      "source": [
        "sentence = \"a random sentence\"\n",
        "tokens = sentence.split(\" \")\n",
        "print(tokens)"
      ],
      "metadata": {
        "colab": {
          "base_uri": "https://localhost:8080/"
        },
        "id": "AnQl3jUAOzyx",
        "outputId": "27a1afc9-6e41-47cf-faf9-8396d8b1082b"
      },
      "execution_count": 20,
      "outputs": [
        {
          "output_type": "stream",
          "name": "stdout",
          "text": [
            "['a', 'random', 'sentence']\n"
          ]
        }
      ]
    },
    {
      "cell_type": "code",
      "source": [
        "import random\n",
        "no = random.randint(1,10)\n",
        "print(no)\n",
        "print(random.random())\n",
        "items = [\"apple\", \"banana\", \"orange\"]\n",
        "random.shuffle(items)\n",
        "print(items)\n",
        "print(random.choice(items))"
      ],
      "metadata": {
        "colab": {
          "base_uri": "https://localhost:8080/"
        },
        "id": "NSgh23jfO1xI",
        "outputId": "37ff7ede-f217-4521-ff97-fff97d899b1a"
      },
      "execution_count": 22,
      "outputs": [
        {
          "output_type": "stream",
          "name": "stdout",
          "text": [
            "3\n",
            "0.04539632842682484\n",
            "['apple', 'orange', 'banana']\n",
            "apple\n"
          ]
        }
      ]
    },
    {
      "cell_type": "code",
      "source": [],
      "metadata": {
        "id": "AUYJ5NyPO3zi"
      },
      "execution_count": null,
      "outputs": []
    }
  ]
}