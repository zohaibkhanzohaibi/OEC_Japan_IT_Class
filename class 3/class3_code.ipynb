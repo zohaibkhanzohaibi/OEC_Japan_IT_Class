{
  "nbformat": 4,
  "nbformat_minor": 0,
  "metadata": {
    "colab": {
      "provenance": [],
      "authorship_tag": "ABX9TyMrt2R+FcLFHGqpeZseE3Yg"
    },
    "kernelspec": {
      "name": "python3",
      "display_name": "Python 3"
    },
    "language_info": {
      "name": "python"
    }
  },
  "cells": [
    {
      "cell_type": "code",
      "execution_count": 1,
      "metadata": {
        "id": "3apP3In2wdTz"
      },
      "outputs": [],
      "source": [
        "age = 18\n",
        "if age < 18:\n",
        "  print(\"You are not eligible to vote\")"
      ]
    },
    {
      "cell_type": "code",
      "source": [
        "num = 6\n",
        "if num % 2 == 0:\n",
        "  print(\"Even number\")\n",
        "else:\n",
        "  print(\"Odd number\")"
      ],
      "metadata": {
        "colab": {
          "base_uri": "https://localhost:8080/"
        },
        "id": "SRpDHJqjw6il",
        "outputId": "da62e9c7-364e-4d61-ffb8-16eacaec3589"
      },
      "execution_count": 3,
      "outputs": [
        {
          "output_type": "stream",
          "name": "stdout",
          "text": [
            "Even number\n"
          ]
        }
      ]
    },
    {
      "cell_type": "code",
      "source": [
        "marks = 49\n",
        "if marks >= 90:\n",
        "  print(\"Grade A\")\n",
        "elif marks >= 80:\n",
        "  print(\"Grade B\")\n",
        "elif marks >= 70:\n",
        "  print(\"Grade C\")\n",
        "elif marks >= 60:\n",
        "  print(\"Grade D\")\n",
        "elif marks >= 50:\n",
        "  print(\"Grade E\")\n",
        "else:\n",
        "  print(\"Grade F\")"
      ],
      "metadata": {
        "colab": {
          "base_uri": "https://localhost:8080/"
        },
        "id": "MLJqoCX1w_hj",
        "outputId": "6433b117-8808-4cbc-e415-78ac8b4e9d1f"
      },
      "execution_count": 4,
      "outputs": [
        {
          "output_type": "stream",
          "name": "stdout",
          "text": [
            "Grade F\n"
          ]
        }
      ]
    },
    {
      "cell_type": "code",
      "source": [
        "num = 21\n",
        "if num > 10:\n",
        "  if num % 2 == 0:\n",
        "    print(\"Even number greater then 10\")\n",
        "  else:\n",
        "    print(\"Odd number greater then 10\")"
      ],
      "metadata": {
        "colab": {
          "base_uri": "https://localhost:8080/"
        },
        "id": "Q6EZej9nxPlK",
        "outputId": "fea4197d-b704-47a9-e269-8ee285ae2598"
      },
      "execution_count": 5,
      "outputs": [
        {
          "output_type": "stream",
          "name": "stdout",
          "text": [
            "Odd number greater then 10\n"
          ]
        }
      ]
    },
    {
      "cell_type": "code",
      "source": [
        "is_adult = True\n",
        "has_voter_id = False\n",
        "if is_adult and has_voter_id:\n",
        "  print(\"You are eligible to vote\")\n",
        "else:\n",
        "  print(\"You are not eligible to vote\")"
      ],
      "metadata": {
        "colab": {
          "base_uri": "https://localhost:8080/"
        },
        "id": "y38yDsg3xVxS",
        "outputId": "3f8db6c0-d52c-465f-c419-d55933360cec"
      },
      "execution_count": 6,
      "outputs": [
        {
          "output_type": "stream",
          "name": "stdout",
          "text": [
            "You are not eligible to vote\n"
          ]
        }
      ]
    },
    {
      "cell_type": "code",
      "source": [
        "age = 28\n",
        "message = \"Adult\" if age >= 18 else \"Minor\"\n",
        "print(message)"
      ],
      "metadata": {
        "colab": {
          "base_uri": "https://localhost:8080/"
        },
        "id": "JTQVmuhzxYGC",
        "outputId": "7e288ed5-e194-4591-a537-e70a40db014a"
      },
      "execution_count": 7,
      "outputs": [
        {
          "output_type": "stream",
          "name": "stdout",
          "text": [
            "Adult\n"
          ]
        }
      ]
    },
    {
      "cell_type": "code",
      "source": [
        "color = \"black\"\n",
        "\n",
        "match color:\n",
        "  case \"red\":\n",
        "    print(\"Stop\")\n",
        "  case \"yellow\":\n",
        "    print(\"Get Ready\")\n",
        "  case \"green\":\n",
        "    print(\"Go\")\n",
        "  case _:\n",
        "    print(\"Invalid color\")"
      ],
      "metadata": {
        "colab": {
          "base_uri": "https://localhost:8080/"
        },
        "id": "xKvYVjDaxb96",
        "outputId": "9fe550c0-8ca3-4227-99b6-0cf370524013"
      },
      "execution_count": 8,
      "outputs": [
        {
          "output_type": "stream",
          "name": "stdout",
          "text": [
            "Invalid color\n"
          ]
        }
      ]
    },
    {
      "cell_type": "code",
      "source": [
        "fruits = [\"apple\",\"banana\",\"cherry\",\"orange\"]\n",
        "\n",
        "for fruit in fruits:\n",
        "  print(fruit)"
      ],
      "metadata": {
        "colab": {
          "base_uri": "https://localhost:8080/"
        },
        "id": "5vXK3HCkxkXK",
        "outputId": "7a5304c3-fec2-44ce-e24f-4d6fe5f1edde"
      },
      "execution_count": 9,
      "outputs": [
        {
          "output_type": "stream",
          "name": "stdout",
          "text": [
            "apple\n",
            "banana\n",
            "cherry\n",
            "orange\n"
          ]
        }
      ]
    },
    {
      "cell_type": "code",
      "source": [
        "for char in \"PlusW\":\n",
        "  print(char)"
      ],
      "metadata": {
        "colab": {
          "base_uri": "https://localhost:8080/"
        },
        "id": "4cXyuVksxnDK",
        "outputId": "4f137612-151f-43f6-df98-5b2cb102432b"
      },
      "execution_count": 10,
      "outputs": [
        {
          "output_type": "stream",
          "name": "stdout",
          "text": [
            "P\n",
            "l\n",
            "u\n",
            "s\n",
            "W\n"
          ]
        }
      ]
    },
    {
      "cell_type": "code",
      "source": [
        "person = {\"Name\":\"Zohaib\",\"Age\":21,\"City\":\"Karachi\",\"Gender\":\"Male\",\"Program\":\"BSCS\"}\n",
        "\n",
        "for key,value in person.items():\n",
        "  print(f\"{key} : {value}\")"
      ],
      "metadata": {
        "colab": {
          "base_uri": "https://localhost:8080/"
        },
        "id": "R78j-c3fx05x",
        "outputId": "77288f4c-2a57-49e7-b6a6-740ae010e258"
      },
      "execution_count": 11,
      "outputs": [
        {
          "output_type": "stream",
          "name": "stdout",
          "text": [
            "Name : Zohaib\n",
            "Age : 21\n",
            "City : Karachi\n",
            "Gender : Male\n",
            "Program : BSCS\n"
          ]
        }
      ]
    },
    {
      "cell_type": "code",
      "source": [
        "for i in range(5):\n",
        "  print(i)"
      ],
      "metadata": {
        "colab": {
          "base_uri": "https://localhost:8080/"
        },
        "id": "YY7YO1E3x7KC",
        "outputId": "b041b2e0-3c85-4679-ac00-fe805fefaaf7"
      },
      "execution_count": 12,
      "outputs": [
        {
          "output_type": "stream",
          "name": "stdout",
          "text": [
            "0\n",
            "1\n",
            "2\n",
            "3\n",
            "4\n"
          ]
        }
      ]
    },
    {
      "cell_type": "code",
      "source": [
        "for i in range(0,10,2):\n",
        "  print(i)"
      ],
      "metadata": {
        "colab": {
          "base_uri": "https://localhost:8080/"
        },
        "id": "TkSQxwgox9vR",
        "outputId": "9c54ecc1-a9fe-46e4-fa7c-75cd8fcf35ed"
      },
      "execution_count": 13,
      "outputs": [
        {
          "output_type": "stream",
          "name": "stdout",
          "text": [
            "0\n",
            "2\n",
            "4\n",
            "6\n",
            "8\n"
          ]
        }
      ]
    },
    {
      "cell_type": "code",
      "source": [
        "count = 0\n",
        "while count < 5:\n",
        "  print(f\"Count : {count}\")\n",
        "  count += 1\n",
        "  print(f\"After increment : {count}\")"
      ],
      "metadata": {
        "colab": {
          "base_uri": "https://localhost:8080/"
        },
        "id": "L4OYqRK0yB9y",
        "outputId": "f977b8f3-1d96-4ddc-8b56-99a291a10f64"
      },
      "execution_count": 14,
      "outputs": [
        {
          "output_type": "stream",
          "name": "stdout",
          "text": [
            "Count : 0\n",
            "After increment : 1\n",
            "Count : 1\n",
            "After increment : 2\n",
            "Count : 2\n",
            "After increment : 3\n",
            "Count : 3\n",
            "After increment : 4\n",
            "Count : 4\n",
            "After increment : 5\n"
          ]
        }
      ]
    },
    {
      "cell_type": "code",
      "source": [
        "while True:\n",
        "  user_input = input(\"Enter 'quit' to exit :\")\n",
        "  if user_input.lower() == 'quit':\n",
        "    print(\"Exiting Loop\")\n",
        "    break"
      ],
      "metadata": {
        "colab": {
          "base_uri": "https://localhost:8080/"
        },
        "id": "-qke1SASyIHS",
        "outputId": "8b1a3890-d949-4270-93cb-ae73f91ba835"
      },
      "execution_count": 15,
      "outputs": [
        {
          "output_type": "stream",
          "name": "stdout",
          "text": [
            "Enter 'quit' to exit :no\n",
            "Enter 'quit' to exit :yes\n",
            "Enter 'quit' to exit :zohaib\n",
            "Enter 'quit' to exit :quit\n",
            "Exiting Loop\n"
          ]
        }
      ]
    },
    {
      "cell_type": "code",
      "source": [
        "for i in range(10):\n",
        "  if i == 5:\n",
        "    print(\"Breaking Loop\")\n",
        "    break\n",
        "  print(i)"
      ],
      "metadata": {
        "colab": {
          "base_uri": "https://localhost:8080/"
        },
        "id": "dRTzEiaWyL5h",
        "outputId": "e3168e37-23d4-46c9-aa09-2a8c6cc1711d"
      },
      "execution_count": 16,
      "outputs": [
        {
          "output_type": "stream",
          "name": "stdout",
          "text": [
            "0\n",
            "1\n",
            "2\n",
            "3\n",
            "4\n",
            "Breaking Loop\n"
          ]
        }
      ]
    },
    {
      "cell_type": "code",
      "source": [
        "for i in range(10):\n",
        "  if i % 2 == 0:\n",
        "    continue\n",
        "  print(i)"
      ],
      "metadata": {
        "colab": {
          "base_uri": "https://localhost:8080/"
        },
        "id": "hdA9dqPbyQH6",
        "outputId": "e77e5e12-61cf-4df0-f9da-3d5df3ced154"
      },
      "execution_count": 17,
      "outputs": [
        {
          "output_type": "stream",
          "name": "stdout",
          "text": [
            "1\n",
            "3\n",
            "5\n",
            "7\n",
            "9\n"
          ]
        }
      ]
    },
    {
      "cell_type": "code",
      "source": [
        "for i in range(5):\n",
        "  if i == 3:\n",
        "    pass # Placeholder\n",
        "  print (f\"Processing {i}\")"
      ],
      "metadata": {
        "colab": {
          "base_uri": "https://localhost:8080/"
        },
        "id": "sxfI4HfUyY0B",
        "outputId": "68c49838-4e99-40e9-f1f4-d17692ddb0b6"
      },
      "execution_count": 19,
      "outputs": [
        {
          "output_type": "stream",
          "name": "stdout",
          "text": [
            "Processing 0\n",
            "Processing 1\n",
            "Processing 2\n",
            "Processing 3\n",
            "Processing 4\n"
          ]
        }
      ]
    },
    {
      "cell_type": "code",
      "source": [
        "for i in range(3):\n",
        "  for j in range(2):\n",
        "    for h in range(2):\n",
        "      print(f\" i = {i} | j = {j} | h = {h}\")"
      ],
      "metadata": {
        "colab": {
          "base_uri": "https://localhost:8080/"
        },
        "id": "8yHX8GfHybSR",
        "outputId": "491efcc8-eb73-47c2-fccf-9652f3cca47c"
      },
      "execution_count": 20,
      "outputs": [
        {
          "output_type": "stream",
          "name": "stdout",
          "text": [
            " i = 0 | j = 0 | h = 0\n",
            " i = 0 | j = 0 | h = 1\n",
            " i = 0 | j = 1 | h = 0\n",
            " i = 0 | j = 1 | h = 1\n",
            " i = 1 | j = 0 | h = 0\n",
            " i = 1 | j = 0 | h = 1\n",
            " i = 1 | j = 1 | h = 0\n",
            " i = 1 | j = 1 | h = 1\n",
            " i = 2 | j = 0 | h = 0\n",
            " i = 2 | j = 0 | h = 1\n",
            " i = 2 | j = 1 | h = 0\n",
            " i = 2 | j = 1 | h = 1\n"
          ]
        }
      ]
    },
    {
      "cell_type": "code",
      "source": [
        "for i in range(1,10):\n",
        "  for j in range(1,11):\n",
        "    print(f\"{i} x {j} = {i*j}\")\n",
        "  print(\"==========\")"
      ],
      "metadata": {
        "colab": {
          "base_uri": "https://localhost:8080/"
        },
        "id": "UO52RmL8ynny",
        "outputId": "a1ee4846-3450-4e80-bed1-9926c98ddc10"
      },
      "execution_count": 22,
      "outputs": [
        {
          "output_type": "stream",
          "name": "stdout",
          "text": [
            "1 x 1 = 1\n",
            "1 x 2 = 2\n",
            "1 x 3 = 3\n",
            "1 x 4 = 4\n",
            "1 x 5 = 5\n",
            "1 x 6 = 6\n",
            "1 x 7 = 7\n",
            "1 x 8 = 8\n",
            "1 x 9 = 9\n",
            "1 x 10 = 10\n",
            "==========\n",
            "2 x 1 = 2\n",
            "2 x 2 = 4\n",
            "2 x 3 = 6\n",
            "2 x 4 = 8\n",
            "2 x 5 = 10\n",
            "2 x 6 = 12\n",
            "2 x 7 = 14\n",
            "2 x 8 = 16\n",
            "2 x 9 = 18\n",
            "2 x 10 = 20\n",
            "==========\n",
            "3 x 1 = 3\n",
            "3 x 2 = 6\n",
            "3 x 3 = 9\n",
            "3 x 4 = 12\n",
            "3 x 5 = 15\n",
            "3 x 6 = 18\n",
            "3 x 7 = 21\n",
            "3 x 8 = 24\n",
            "3 x 9 = 27\n",
            "3 x 10 = 30\n",
            "==========\n",
            "4 x 1 = 4\n",
            "4 x 2 = 8\n",
            "4 x 3 = 12\n",
            "4 x 4 = 16\n",
            "4 x 5 = 20\n",
            "4 x 6 = 24\n",
            "4 x 7 = 28\n",
            "4 x 8 = 32\n",
            "4 x 9 = 36\n",
            "4 x 10 = 40\n",
            "==========\n",
            "5 x 1 = 5\n",
            "5 x 2 = 10\n",
            "5 x 3 = 15\n",
            "5 x 4 = 20\n",
            "5 x 5 = 25\n",
            "5 x 6 = 30\n",
            "5 x 7 = 35\n",
            "5 x 8 = 40\n",
            "5 x 9 = 45\n",
            "5 x 10 = 50\n",
            "==========\n",
            "6 x 1 = 6\n",
            "6 x 2 = 12\n",
            "6 x 3 = 18\n",
            "6 x 4 = 24\n",
            "6 x 5 = 30\n",
            "6 x 6 = 36\n",
            "6 x 7 = 42\n",
            "6 x 8 = 48\n",
            "6 x 9 = 54\n",
            "6 x 10 = 60\n",
            "==========\n",
            "7 x 1 = 7\n",
            "7 x 2 = 14\n",
            "7 x 3 = 21\n",
            "7 x 4 = 28\n",
            "7 x 5 = 35\n",
            "7 x 6 = 42\n",
            "7 x 7 = 49\n",
            "7 x 8 = 56\n",
            "7 x 9 = 63\n",
            "7 x 10 = 70\n",
            "==========\n",
            "8 x 1 = 8\n",
            "8 x 2 = 16\n",
            "8 x 3 = 24\n",
            "8 x 4 = 32\n",
            "8 x 5 = 40\n",
            "8 x 6 = 48\n",
            "8 x 7 = 56\n",
            "8 x 8 = 64\n",
            "8 x 9 = 72\n",
            "8 x 10 = 80\n",
            "==========\n",
            "9 x 1 = 9\n",
            "9 x 2 = 18\n",
            "9 x 3 = 27\n",
            "9 x 4 = 36\n",
            "9 x 5 = 45\n",
            "9 x 6 = 54\n",
            "9 x 7 = 63\n",
            "9 x 8 = 72\n",
            "9 x 9 = 81\n",
            "9 x 10 = 90\n",
            "==========\n"
          ]
        }
      ]
    },
    {
      "cell_type": "code",
      "source": [
        "for num in range(5):\n",
        "  print(num)\n",
        "else:\n",
        "  print(\"Loop Completed Successfully\")"
      ],
      "metadata": {
        "colab": {
          "base_uri": "https://localhost:8080/"
        },
        "id": "FRqC8tLYyuBa",
        "outputId": "0fa15f5a-c755-4539-d0d0-bf159afe719d"
      },
      "execution_count": 23,
      "outputs": [
        {
          "output_type": "stream",
          "name": "stdout",
          "text": [
            "0\n",
            "1\n",
            "2\n",
            "3\n",
            "4\n",
            "Loop Completed Successfully\n"
          ]
        }
      ]
    },
    {
      "cell_type": "code",
      "source": [
        "for num in range(5):\n",
        "  if num == 3:\n",
        "    print(\"Breaking the loop\")\n",
        "    break\n",
        "  print(num)\n",
        "else:\n",
        "  print(\"Loop completed without breaking\")"
      ],
      "metadata": {
        "colab": {
          "base_uri": "https://localhost:8080/"
        },
        "id": "XVghvtjzy1Kx",
        "outputId": "c92a73e0-be3b-4206-c209-aea2fbe7fc9c"
      },
      "execution_count": 24,
      "outputs": [
        {
          "output_type": "stream",
          "name": "stdout",
          "text": [
            "0\n",
            "1\n",
            "2\n",
            "Breaking the loop\n"
          ]
        }
      ]
    },
    {
      "cell_type": "code",
      "source": [
        "nums = [1,2,3,4,5]\n",
        "search = 6\n",
        "for num in nums:\n",
        "  if num == search:\n",
        "    print(f\"{search} Found in the list\")\n",
        "    break\n",
        "else:\n",
        "  print(f\"{search} Not Found in the list\")"
      ],
      "metadata": {
        "colab": {
          "base_uri": "https://localhost:8080/"
        },
        "id": "uhYK9ochy6ei",
        "outputId": "e8ab4259-b4d3-436a-a262-67064c81132b"
      },
      "execution_count": 25,
      "outputs": [
        {
          "output_type": "stream",
          "name": "stdout",
          "text": [
            "6 Not Found in the list\n"
          ]
        }
      ]
    },
    {
      "cell_type": "code",
      "source": [
        "def greet():\n",
        "  print(\"Hello Python\")"
      ],
      "metadata": {
        "id": "hDjq3fnAy-wB"
      },
      "execution_count": 26,
      "outputs": []
    },
    {
      "cell_type": "code",
      "source": [
        "def greet_user(name):\n",
        "  print(f\"Hello {name}\")"
      ],
      "metadata": {
        "id": "dtDBzFUXzAsh"
      },
      "execution_count": 27,
      "outputs": []
    },
    {
      "cell_type": "code",
      "source": [
        "greet()\n",
        "greet_user(\"Zohaib\")"
      ],
      "metadata": {
        "colab": {
          "base_uri": "https://localhost:8080/"
        },
        "id": "f31NKhtGzCiR",
        "outputId": "73eb4d13-3a3e-42a5-fe24-1d9f7bacaff4"
      },
      "execution_count": 29,
      "outputs": [
        {
          "output_type": "stream",
          "name": "stdout",
          "text": [
            "Hello Python\n",
            "Hello Zohaib\n"
          ]
        }
      ]
    },
    {
      "cell_type": "code",
      "source": [
        "def add(a,b):\n",
        "  return a+b\n",
        "def display_info(name,age):\n",
        "  return(f\"Name : {name} | Age : {age}\")"
      ],
      "metadata": {
        "id": "V4hjS01czGFS"
      },
      "execution_count": 30,
      "outputs": []
    },
    {
      "cell_type": "code",
      "source": [
        "print(add(5,10))\n",
        "print(display_info(\"Zohaib\",22))"
      ],
      "metadata": {
        "colab": {
          "base_uri": "https://localhost:8080/"
        },
        "id": "d5MhC3r1zMz6",
        "outputId": "ee093e09-2520-4c0c-b56a-64448d30b953"
      },
      "execution_count": 31,
      "outputs": [
        {
          "output_type": "stream",
          "name": "stdout",
          "text": [
            "15\n",
            "Name : Zohaib | Age : 22\n"
          ]
        }
      ]
    },
    {
      "cell_type": "code",
      "source": [
        "def calculate(a,b):\n",
        "  return a+b , a-b"
      ],
      "metadata": {
        "id": "MojgkjVWzQ9S"
      },
      "execution_count": 32,
      "outputs": []
    },
    {
      "cell_type": "code",
      "source": [
        "sum , diff = calculate(10,20)\n",
        "print(f\"Sum : {sum} | Diff : {diff}\")"
      ],
      "metadata": {
        "colab": {
          "base_uri": "https://localhost:8080/"
        },
        "id": "a4bASYcdzTnx",
        "outputId": "a21da385-6e57-4741-a944-b91da445f52b"
      },
      "execution_count": 33,
      "outputs": [
        {
          "output_type": "stream",
          "name": "stdout",
          "text": [
            "Sum : 30 | Diff : -10\n"
          ]
        }
      ]
    },
    {
      "cell_type": "code",
      "source": [
        "def greet(name , greeting):\n",
        "  return f\"{greeting} {name}\"\n",
        "\n",
        "print(greet(greeting = \"Hello\",name = \"Zohaib\"))"
      ],
      "metadata": {
        "colab": {
          "base_uri": "https://localhost:8080/"
        },
        "id": "kC6Ejt3zzXgp",
        "outputId": "e8281241-3c84-47c7-e9b9-878744d7face"
      },
      "execution_count": 34,
      "outputs": [
        {
          "output_type": "stream",
          "name": "stdout",
          "text": [
            "Hello Zohaib\n"
          ]
        }
      ]
    },
    {
      "cell_type": "code",
      "source": [
        "def greet(name = \"Zohaib\", greeting = \"Hey\"):\n",
        "  return f\"{greeting} {name} !!!\"\n",
        "\n",
        "print(greet(greeting = \"Hello\",name = \"Mahira\"))\n",
        "print(greet( \"Hasan\"))\n",
        "print(greet())\n"
      ],
      "metadata": {
        "colab": {
          "base_uri": "https://localhost:8080/"
        },
        "id": "RZ4cSGUIzeiC",
        "outputId": "d469c734-ac68-441c-d0c9-61bb9a479211"
      },
      "execution_count": 35,
      "outputs": [
        {
          "output_type": "stream",
          "name": "stdout",
          "text": [
            "Hello Mahira !!!\n",
            "Hey Hasan !!!\n",
            "Hey Zohaib !!!\n"
          ]
        }
      ]
    },
    {
      "cell_type": "code",
      "source": [
        "def print_kvargs(**kvargs):\n",
        "  for key, value in kvargs.items():\n",
        "    print(f\"{key} : {value}\")\n",
        "\n",
        "print_kvargs(name = \"Zohaib\", age = 21, city = \"Karachi\")\n"
      ],
      "metadata": {
        "colab": {
          "base_uri": "https://localhost:8080/"
        },
        "id": "Ehcbw9sQzozi",
        "outputId": "b934fa5e-3cdf-4c6b-dbd5-2eb0f7227e4c"
      },
      "execution_count": 36,
      "outputs": [
        {
          "output_type": "stream",
          "name": "stdout",
          "text": [
            "name : Zohaib\n",
            "age : 21\n",
            "city : Karachi\n"
          ]
        }
      ]
    },
    {
      "cell_type": "code",
      "source": [
        "square = lambda x : x**2\n",
        "print(square(10))"
      ],
      "metadata": {
        "colab": {
          "base_uri": "https://localhost:8080/"
        },
        "id": "fU3FoSNKz1hB",
        "outputId": "dfb5ebaf-ac45-4d63-ab26-36749f8cc63d"
      },
      "execution_count": 37,
      "outputs": [
        {
          "output_type": "stream",
          "name": "stdout",
          "text": [
            "100\n"
          ]
        }
      ]
    },
    {
      "cell_type": "code",
      "source": [],
      "metadata": {
        "id": "T9YGWWdyz3jp"
      },
      "execution_count": null,
      "outputs": []
    }
  ]
}