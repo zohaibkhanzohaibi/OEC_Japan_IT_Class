{
  "nbformat": 4,
  "nbformat_minor": 0,
  "metadata": {
    "colab": {
      "provenance": [],
      "authorship_tag": "ABX9TyObCOhX/1bCDlLgINzBcJVK"
    },
    "kernelspec": {
      "name": "python3",
      "display_name": "Python 3"
    },
    "language_info": {
      "name": "python"
    }
  },
  "cells": [
    {
      "cell_type": "code",
      "execution_count": 2,
      "metadata": {
        "colab": {
          "base_uri": "https://localhost:8080/"
        },
        "id": "cChC8ytX6WrL",
        "outputId": "5e333066-5540-4934-c876-95d97a05b9a5"
      },
      "outputs": [
        {
          "output_type": "stream",
          "name": "stdout",
          "text": [
            "Practice hiragana\n",
            "Learn python\n",
            "\n",
            "Learn python\n"
          ]
        }
      ],
      "source": [
        "tasks = []\n",
        "\n",
        "def add_task(task):\n",
        "  tasks.append(task)\n",
        "\n",
        "def remove_task(task):\n",
        "  if task in tasks:\n",
        "    tasks.remove(task)\n",
        "\n",
        "def view_tasks():\n",
        "  for task in tasks:\n",
        "    print(task)\n",
        "\n",
        "add_task(\"Practice hiragana\")\n",
        "add_task(\"Learn python\")\n",
        "view_tasks()\n",
        "print()\n",
        "remove_task(\"Practice hiragana\")\n",
        "view_tasks()"
      ]
    },
    {
      "cell_type": "code",
      "source": [
        "def find_max_min(list):\n",
        " max_no = list[0]\n",
        " min_no = list[0]\n",
        " for no in list:\n",
        "   if(no > max_no):\n",
        "      max_no = no\n",
        "   if(no < min_no):\n",
        "     min_no = no\n",
        " return max_no , min_no\n",
        "\n",
        "numbers = [2, 10, -10, 5, 9, -11]\n",
        "max_no, min_no = find_max_min(numbers)\n",
        "print(f\"Max: {max_no}, Min: {min_no}\")"
      ],
      "metadata": {
        "colab": {
          "base_uri": "https://localhost:8080/"
        },
        "id": "VEKhBjyG9bNS",
        "outputId": "28ee6080-ce5b-492b-f61d-492da0812e1b"
      },
      "execution_count": 4,
      "outputs": [
        {
          "output_type": "stream",
          "name": "stdout",
          "text": [
            "Max: 10, Min: -11\n"
          ]
        }
      ]
    },
    {
      "cell_type": "code",
      "source": [
        "phonebook = {}\n",
        "def add_contact(name, number):\n",
        " phonebook[name] = number\n",
        "\n",
        "def get_number(name):\n",
        " return phonebook.get(name, \"Contact not found\")\n",
        "\n",
        "add_contact(\"Zohaib\", \"+923331223334\")\n",
        "add_contact(\"Mahira\", \"+923331573080\")\n",
        "print(get_number(\"Mahira\"))"
      ],
      "metadata": {
        "colab": {
          "base_uri": "https://localhost:8080/"
        },
        "id": "LYR2M6kR9rn_",
        "outputId": "3d24fbd6-2952-4ae6-a494-46b081dafae7"
      },
      "execution_count": 5,
      "outputs": [
        {
          "output_type": "stream",
          "name": "stdout",
          "text": [
            "+923331573080\n"
          ]
        }
      ]
    },
    {
      "cell_type": "code",
      "source": [
        "inventory = {}\n",
        "\n",
        "def add_item(item, quantity):\n",
        " if item in inventory:\n",
        "  inventory[item] += quantity\n",
        " else:\n",
        "  inventory[item] = quantity\n",
        "\n",
        "def remove_item(item, quantity):\n",
        "  if item in inventory and inventory[item] >= quantity:\n",
        "    inventory[item] -= quantity\n",
        "    if inventory[item] == 0:\n",
        "      del inventory[item]\n",
        "  else:\n",
        "    print(f\"Insufficient quantity of {item}.\")\n",
        "\n",
        "def view_inventory():\n",
        " for item, quantity in inventory.items():\n",
        "  print(f\"{item}: {quantity}\")\n",
        "\n",
        "add_item(\"Apple\", 10)\n",
        "add_item(\"Banana\", 5)\n",
        "remove_item(\"Apple\", 3)\n",
        "remove_item(\"Banana\", 7)\n",
        "view_inventory()"
      ],
      "metadata": {
        "colab": {
          "base_uri": "https://localhost:8080/"
        },
        "id": "VUJ7cXvU-Jj3",
        "outputId": "fd040013-f0aa-4ef3-f998-7a002761a58b"
      },
      "execution_count": 8,
      "outputs": [
        {
          "output_type": "stream",
          "name": "stdout",
          "text": [
            "Insufficient quantity of Banana.\n",
            "Apple: 7\n",
            "Banana: 5\n"
          ]
        }
      ]
    },
    {
      "cell_type": "code",
      "source": [
        "def deposit(balance, amount):\n",
        " balance += amount\n",
        " print(f\"Deposited: {amount}. New balance: {balance}\")\n",
        " return balance # Return the updated balance\n",
        "\n",
        "def withdraw(balance, amount):\n",
        " if amount <= balance:\n",
        "  balance -= amount\n",
        "  print(f\"Withdrew: {amount}. New balance: {balance}\")\n",
        " else:\n",
        "   print(\"Insufficient funds\")\n",
        " return balance # Return the updated balance\n",
        "def check_balance(balance):\n",
        " print(f\"Current balance: {balance}\")\n",
        "\n",
        "balance = 2000 # Initial balance\n",
        "balance = deposit(balance, 500) # Deposit money\n",
        "balance = withdraw(balance, 200) # Withdraw money\n",
        "check_balance(balance)"
      ],
      "metadata": {
        "colab": {
          "base_uri": "https://localhost:8080/"
        },
        "id": "cFjLMwM_-Mg_",
        "outputId": "f8f15d6d-45bd-4779-ac1f-b8c4a6e2888e"
      },
      "execution_count": 9,
      "outputs": [
        {
          "output_type": "stream",
          "name": "stdout",
          "text": [
            "Deposited: 500. New balance: 2500\n",
            "Withdrew: 200. New balance: 2300\n",
            "Current balance: 2300\n"
          ]
        }
      ]
    },
    {
      "cell_type": "code",
      "source": [],
      "metadata": {
        "id": "Tsq4FEM3_Ekv"
      },
      "execution_count": null,
      "outputs": []
    }
  ]
}