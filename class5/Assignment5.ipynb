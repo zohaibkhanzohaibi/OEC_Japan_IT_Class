{
  "nbformat": 4,
  "nbformat_minor": 0,
  "metadata": {
    "colab": {
      "provenance": [],
      "authorship_tag": "ABX9TyPAJWaZZGPocN83Amz0Xyu8",
      "include_colab_link": true
    },
    "kernelspec": {
      "name": "python3",
      "display_name": "Python 3"
    },
    "language_info": {
      "name": "python"
    }
  },
  "cells": [
    {
      "cell_type": "markdown",
      "metadata": {
        "id": "view-in-github",
        "colab_type": "text"
      },
      "source": [
        "<a href=\"https://colab.research.google.com/github/zohaibkhanzohaibi/OEC_Japan_IT_Class/blob/master/Assignment5.ipynb\" target=\"_parent\"><img src=\"https://colab.research.google.com/assets/colab-badge.svg\" alt=\"Open In Colab\"/></a>"
      ]
    },
    {
      "cell_type": "code",
      "execution_count": 3,
      "metadata": {
        "colab": {
          "base_uri": "https://localhost:8080/"
        },
        "id": "Ofmld9nfnCJY",
        "outputId": "5d890883-93b7-4ca8-c8a1-fba603a8991e"
      },
      "outputs": [
        {
          "output_type": "stream",
          "name": "stdout",
          "text": [
            "Data exported to csv_files/output.csv in CSV format.\n",
            "Data exported to output.json in JSON format.\n",
            "Moved file: csv_files/data2.csv\n",
            "Moved file: csv_files/output.csv\n",
            "Moved file: csv_files/data.csv\n"
          ]
        }
      ],
      "source": [
        "import os\n",
        "import glob\n",
        "import shutil\n",
        "import pandas as pd\n",
        "\n",
        "# Create folders if they don't exist\n",
        "os.makedirs('csv_files', exist_ok=True)\n",
        "os.makedirs('backup_folder', exist_ok=True)\n",
        "\n",
        "# Automating Export\n",
        "def export_data(df, filename, format):\n",
        "    if format == \"csv\":\n",
        "        df.to_csv(filename, index=False)\n",
        "        print(f\"Data exported to {filename} in CSV format.\")\n",
        "    elif format == \"json\":\n",
        "        df.to_json(filename, orient=\"records\")\n",
        "        print(f\"Data exported to {filename} in JSON format.\")\n",
        "    else:\n",
        "        print(\"Unsupported format.\")\n",
        "\n",
        "# Example usage:\n",
        "# Creating a sample dataframe\n",
        "data = {\n",
        "    'Name': ['Alice', 'Bob', 'Charlie'],\n",
        "    'Age': [25, 30, 35],\n",
        "    'City': ['New York', 'Los Angeles', 'Chicago']\n",
        "}\n",
        "df = pd.DataFrame(data)\n",
        "\n",
        "# Exporting to CSV\n",
        "export_data(df, \"csv_files/output.csv\", \"csv\")\n",
        "# Exporting to JSON\n",
        "export_data(df, \"output.json\", \"json\")\n",
        "\n",
        "# Move all CSV files to a backup folder\n",
        "csv_files = glob.glob(\"csv_files/*.csv\")\n",
        "for file in csv_files:\n",
        "    shutil.move(file, \"backup_folder/\")\n",
        "    print(f\"Moved file: {file}\")"
      ]
    },
    {
      "cell_type": "code",
      "source": [
        "from google.colab import files\n",
        "import shutil\n",
        "\n",
        "shutil.make_archive(\"csv_files\", 'zip', \"csv_files\")\n",
        "files.download(\"csv_files.zip\")\n",
        "\n",
        "shutil.make_archive(\"backup_folder\", 'zip', \"backup_folder\")\n",
        "files.download(\"backup_folder.zip\")"
      ],
      "metadata": {
        "id": "omIjgaNun5eC",
        "colab": {
          "base_uri": "https://localhost:8080/",
          "height": 17
        },
        "outputId": "65aad3e0-806b-4c74-b961-9a77d7cefe5a"
      },
      "execution_count": 5,
      "outputs": [
        {
          "output_type": "display_data",
          "data": {
            "text/plain": [
              "<IPython.core.display.Javascript object>"
            ],
            "application/javascript": [
              "\n",
              "    async function download(id, filename, size) {\n",
              "      if (!google.colab.kernel.accessAllowed) {\n",
              "        return;\n",
              "      }\n",
              "      const div = document.createElement('div');\n",
              "      const label = document.createElement('label');\n",
              "      label.textContent = `Downloading \"${filename}\": `;\n",
              "      div.appendChild(label);\n",
              "      const progress = document.createElement('progress');\n",
              "      progress.max = size;\n",
              "      div.appendChild(progress);\n",
              "      document.body.appendChild(div);\n",
              "\n",
              "      const buffers = [];\n",
              "      let downloaded = 0;\n",
              "\n",
              "      const channel = await google.colab.kernel.comms.open(id);\n",
              "      // Send a message to notify the kernel that we're ready.\n",
              "      channel.send({})\n",
              "\n",
              "      for await (const message of channel.messages) {\n",
              "        // Send a message to notify the kernel that we're ready.\n",
              "        channel.send({})\n",
              "        if (message.buffers) {\n",
              "          for (const buffer of message.buffers) {\n",
              "            buffers.push(buffer);\n",
              "            downloaded += buffer.byteLength;\n",
              "            progress.value = downloaded;\n",
              "          }\n",
              "        }\n",
              "      }\n",
              "      const blob = new Blob(buffers, {type: 'application/binary'});\n",
              "      const a = document.createElement('a');\n",
              "      a.href = window.URL.createObjectURL(blob);\n",
              "      a.download = filename;\n",
              "      div.appendChild(a);\n",
              "      a.click();\n",
              "      div.remove();\n",
              "    }\n",
              "  "
            ]
          },
          "metadata": {}
        },
        {
          "output_type": "display_data",
          "data": {
            "text/plain": [
              "<IPython.core.display.Javascript object>"
            ],
            "application/javascript": [
              "download(\"download_3f368629-236f-4ab3-88f7-faee3669cbeb\", \"csv_files.zip\", 136)"
            ]
          },
          "metadata": {}
        },
        {
          "output_type": "display_data",
          "data": {
            "text/plain": [
              "<IPython.core.display.Javascript object>"
            ],
            "application/javascript": [
              "\n",
              "    async function download(id, filename, size) {\n",
              "      if (!google.colab.kernel.accessAllowed) {\n",
              "        return;\n",
              "      }\n",
              "      const div = document.createElement('div');\n",
              "      const label = document.createElement('label');\n",
              "      label.textContent = `Downloading \"${filename}\": `;\n",
              "      div.appendChild(label);\n",
              "      const progress = document.createElement('progress');\n",
              "      progress.max = size;\n",
              "      div.appendChild(progress);\n",
              "      document.body.appendChild(div);\n",
              "\n",
              "      const buffers = [];\n",
              "      let downloaded = 0;\n",
              "\n",
              "      const channel = await google.colab.kernel.comms.open(id);\n",
              "      // Send a message to notify the kernel that we're ready.\n",
              "      channel.send({})\n",
              "\n",
              "      for await (const message of channel.messages) {\n",
              "        // Send a message to notify the kernel that we're ready.\n",
              "        channel.send({})\n",
              "        if (message.buffers) {\n",
              "          for (const buffer of message.buffers) {\n",
              "            buffers.push(buffer);\n",
              "            downloaded += buffer.byteLength;\n",
              "            progress.value = downloaded;\n",
              "          }\n",
              "        }\n",
              "      }\n",
              "      const blob = new Blob(buffers, {type: 'application/binary'});\n",
              "      const a = document.createElement('a');\n",
              "      a.href = window.URL.createObjectURL(blob);\n",
              "      a.download = filename;\n",
              "      div.appendChild(a);\n",
              "      a.click();\n",
              "      div.remove();\n",
              "    }\n",
              "  "
            ]
          },
          "metadata": {}
        },
        {
          "output_type": "display_data",
          "data": {
            "text/plain": [
              "<IPython.core.display.Javascript object>"
            ],
            "application/javascript": [
              "download(\"download_16533026-0532-4ada-bd9f-d0b4d8764dc7\", \"backup_folder.zip\", 662)"
            ]
          },
          "metadata": {}
        }
      ]
    },
    {
      "cell_type": "markdown",
      "source": [
        "**Real-Time Stock Market Data Collection and Analysis Using Python and SQLite**\n"
      ],
      "metadata": {
        "id": "_iKaZ_9IsThy"
      }
    },
    {
      "cell_type": "code",
      "source": [
        "import yfinance as yf\n",
        "import sqlite3\n",
        "import pandas as pd\n",
        "import time\n",
        "\n",
        "# Database setup\n",
        "db_name = \"stocks.db\"\n",
        "conn = sqlite3.connect(db_name)\n",
        "cursor = conn.cursor()\n",
        "cursor.execute('''CREATE TABLE IF NOT EXISTS stock_data (\n",
        "    id INTEGER PRIMARY KEY AUTOINCREMENT,\n",
        "    symbol TEXT,\n",
        "    timestamp DATETIME DEFAULT CURRENT_TIMESTAMP,\n",
        "    open REAL,\n",
        "    high REAL,\n",
        "    low REAL,\n",
        "    close REAL,\n",
        "    volume INTEGER\n",
        ")''')\n",
        "conn.commit()\n",
        "\n",
        "# Function to fetch stock data\n",
        "def fetch_stock_data(symbol):\n",
        "    try:\n",
        "        stock = yf.Ticker(symbol)\n",
        "        data = stock.history(period=\"1d\", interval=\"1m\")\n",
        "        if data.empty:\n",
        "            print(f\"No data found for {symbol}. Skipping...\")\n",
        "            return None  # Return None if no data is available\n",
        "        latest = data.iloc[-1]  # Get the most recent price data\n",
        "        return {\n",
        "            \"symbol\": symbol,\n",
        "            \"open\": latest[\"Open\"],\n",
        "            \"high\": latest[\"High\"],\n",
        "            \"low\": latest[\"Low\"],\n",
        "            \"close\": latest[\"Close\"],\n",
        "            \"volume\": latest[\"Volume\"]\n",
        "        }\n",
        "    except Exception as e:\n",
        "        print(f\"Error fetching data for {symbol}: {e}\")\n",
        "        return None\n",
        "\n",
        "# Function to store data in SQLite\n",
        "def store_data(symbol):\n",
        "    stock_data = fetch_stock_data(symbol)\n",
        "    if stock_data:  # Only store if data is available\n",
        "        cursor.execute('''INSERT INTO stock_data (symbol, open, high, low,\n",
        "            close, volume)\n",
        "            VALUES (?, ?, ?, ?, ?, ?)''',\n",
        "            (stock_data[\"symbol\"], stock_data[\"open\"],\n",
        "             stock_data[\"high\"], stock_data[\"low\"],\n",
        "             stock_data[\"close\"], stock_data[\"volume\"]))\n",
        "        conn.commit()\n",
        "        print(f\"Stored data for {symbol}\")\n",
        "\n",
        "# Function to analyze stock data\n",
        "def analyze_stock(symbol):\n",
        "    df = pd.read_sql_query(\"SELECT * FROM stock_data WHERE symbol=? ORDER BY timestamp DESC LIMIT 100\",\n",
        "                           conn, params=(symbol,))\n",
        "    print(df)\n",
        "\n",
        "# Example Usage\n",
        "symbol = \"NVDA\"  # Nvidia Stock\n",
        "for _ in range(5):  # Fetch data 5 times with intervals\n",
        "    store_data(symbol)\n",
        "    time.sleep(60)  # Wait for 1 minute before fetching again\n",
        "\n",
        "analyze_stock(symbol)\n",
        "\n",
        "# Close database connection\n",
        "conn.close()\n"
      ],
      "metadata": {
        "colab": {
          "base_uri": "https://localhost:8080/"
        },
        "id": "UI_OGSEBrvLI",
        "outputId": "342b6247-26c6-499c-9814-afe27fd6901b"
      },
      "execution_count": 8,
      "outputs": [
        {
          "output_type": "stream",
          "name": "stdout",
          "text": [
            "Stored data for NVDA\n",
            "Stored data for NVDA\n",
            "Stored data for NVDA\n",
            "Stored data for NVDA\n",
            "Stored data for NVDA\n",
            "   id symbol            timestamp        open        high         low  \\\n",
            "0  10   NVDA  2025-02-25 10:57:06  130.404999  130.479996  130.089798   \n",
            "1   9   NVDA  2025-02-25 10:56:06  130.404999  130.479996  130.089798   \n",
            "2   8   NVDA  2025-02-25 10:55:06  130.404999  130.479996  130.089798   \n",
            "3   7   NVDA  2025-02-25 10:54:06  130.404999  130.479996  130.089798   \n",
            "4   6   NVDA  2025-02-25 10:53:06  130.404999  130.479996  130.089798   \n",
            "\n",
            "        close   volume  \n",
            "0  130.100006  5221409  \n",
            "1  130.100006  5221409  \n",
            "2  130.100006  5221409  \n",
            "3  130.100006  5221409  \n",
            "4  130.100006  5221409  \n"
          ]
        }
      ]
    },
    {
      "cell_type": "markdown",
      "source": [
        "**Augmented Reality Transformation – Perform linear algebra\n",
        "operations like scaling, rotation, and translation.**"
      ],
      "metadata": {
        "id": "3kgsiPMdtQ8O"
      }
    },
    {
      "cell_type": "code",
      "source": [
        "import requests\n",
        "from bs4 import BeautifulSoup\n",
        "import pandas as pd\n",
        "\n",
        "URL = \"http://books.toscrape.com/\"\n",
        "HEADERS = {\"User-Agent\": \"Mozilla/5.0\"}\n",
        "\n",
        "def get_books(url):\n",
        "    response = requests.get(url, headers=HEADERS)\n",
        "    soup = BeautifulSoup(response.text, \"html.parser\")\n",
        "    books = soup.find_all(\"article\", class_=\"product_pod\")\n",
        "    book_list = []\n",
        "    for book in books:\n",
        "        title = book.h3.a[\"title\"]\n",
        "        price = book.find(\"p\", class_=\"price_color\").text\n",
        "        stock = book.find(\"p\", class_=\"instock availability\").text.strip()\n",
        "        book_list.append({\"Title\": title, \"Price\": price, \"Availability\": stock})\n",
        "    return book_list\n",
        "\n",
        "books_data = get_books(URL)\n",
        "df = pd.DataFrame(books_data)\n",
        "df.to_csv(\"books.csv\", index=False)\n",
        "print(\"Data saved to books.csv\")\n"
      ],
      "metadata": {
        "colab": {
          "base_uri": "https://localhost:8080/"
        },
        "id": "QWt6MeWztOsa",
        "outputId": "14d0e9c7-61d2-40ca-c5aa-67f70d7456f2"
      },
      "execution_count": 10,
      "outputs": [
        {
          "output_type": "stream",
          "name": "stdout",
          "text": [
            "Data saved to books.csv\n"
          ]
        }
      ]
    },
    {
      "cell_type": "code",
      "source": [],
      "metadata": {
        "id": "LeM6BKedv8Ff"
      },
      "execution_count": null,
      "outputs": []
    }
  ]
}